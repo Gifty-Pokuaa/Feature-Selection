{
 "cells": [
  {
   "cell_type": "code",
   "execution_count": 5,
   "id": "d7e6cbfe",
   "metadata": {},
   "outputs": [],
   "source": [
    "import pandas as pd # to use it's read_csv funtion to read the data set\n",
    "import os # to use it's chdir function set working direction\n"
   ]
  },
  {
   "cell_type": "code",
   "execution_count": 8,
   "id": "65a51f9b",
   "metadata": {},
   "outputs": [],
   "source": [
    "\n",
    "\n",
    "df=pd.read_csv('winequality-white.csv', sep=\";\") # reading and storing the winequality-white data as df\n",
    "\n",
    " "
   ]
  },
  {
   "cell_type": "code",
   "execution_count": 9,
   "id": "aa9856e4",
   "metadata": {},
   "outputs": [],
   "source": [
    "#summary statistics of the data set\n",
    "\n",
    "d=df.describe() # using the describe function to find summary statistics\n",
    "d\n",
    "dpath=os.path.abspath(os.pardir)+\"\\\\Results\\Description.csv\" #setting a path to save ouput as Description \n",
    "\n",
    "d.to_csv(dpath) # saving output as csv"
   ]
  },
  {
   "cell_type": "code",
   "execution_count": null,
   "id": "5f110df1",
   "metadata": {},
   "outputs": [],
   "source": []
  }
 ],
 "metadata": {
  "kernelspec": {
   "display_name": "Python 3 (ipykernel)",
   "language": "python",
   "name": "python3"
  },
  "language_info": {
   "codemirror_mode": {
    "name": "ipython",
    "version": 3
   },
   "file_extension": ".py",
   "mimetype": "text/x-python",
   "name": "python",
   "nbconvert_exporter": "python",
   "pygments_lexer": "ipython3",
   "version": "3.9.16"
  }
 },
 "nbformat": 4,
 "nbformat_minor": 5
}
